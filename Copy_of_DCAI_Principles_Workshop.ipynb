{
  "nbformat": 4,
  "nbformat_minor": 0,
  "metadata": {
    "colab": {
      "provenance": [],
      "include_colab_link": true
    },
    "kernelspec": {
      "name": "python3",
      "display_name": "Python 3"
    },
    "language_info": {
      "name": "python"
    }
  },
  "cells": [
    {
      "cell_type": "markdown",
      "metadata": {
        "id": "view-in-github",
        "colab_type": "text"
      },
      "source": [
        "<a href=\"https://colab.research.google.com/github/datametal/oreilly_live_training_llm_apps/blob/main/Copy_of_DCAI_Principles_Workshop.ipynb\" target=\"_parent\"><img src=\"https://colab.research.google.com/assets/colab-badge.svg\" alt=\"Open In Colab\"/></a>"
      ]
    },
    {
      "cell_type": "markdown",
      "source": [
        "# Applying Data-centric AI (DCAI) Principles To Production Systems\n",
        "\n",
        "We will complete a series of exercises to explore the use of Data-centric AI (DCAI) in practice. Please feel free to return to this notebook to refresh those skills."
      ],
      "metadata": {
        "id": "tWNB45kel7go"
      }
    },
    {
      "cell_type": "markdown",
      "source": [
        "# Section 0. Setup and configuration\n",
        "\n",
        "We will ensure that all attendees can access and run notebooks using Google Colab, including Python dependencies."
      ],
      "metadata": {
        "id": "RGuXhkU5mkI9"
      }
    },
    {
      "cell_type": "code",
      "source": [
        "# Installing needed packages\n",
        "%pip install langkit[all]\n",
        "%pip install whylogs[viz,image]"
      ],
      "metadata": {
        "id": "vMAoKl4MXmYb"
      },
      "execution_count": null,
      "outputs": []
    },
    {
      "cell_type": "code",
      "source": [
        "%pip install Pillow==9.0.0"
      ],
      "metadata": {
        "id": "zCBOkq_iv-Zt"
      },
      "execution_count": null,
      "outputs": []
    },
    {
      "cell_type": "code",
      "source": [
        "# Collecting files and resources\n",
        "!curl https://whylabs-public.s3.us-west-2.amazonaws.com/workshops/dcai_workshop_resources.zip -o resources.zip\n",
        "!unzip resources.zip"
      ],
      "metadata": {
        "id": "u9RqCIQiZC6j"
      },
      "execution_count": null,
      "outputs": []
    },
    {
      "cell_type": "code",
      "execution_count": null,
      "metadata": {
        "id": "Y70kLN9ylzOC"
      },
      "outputs": [],
      "source": [
        "# Importing needed packages for all sections\n",
        "import glob\n",
        "import pandas as pd\n",
        "import seaborn as sns\n",
        "import whylogs as why\n",
        "\n",
        "import helpers\n",
        "\n",
        "from sklearn.ensemble import (\n",
        "    RandomForestRegressor,\n",
        "    AdaBoostRegressor,\n",
        "    ExtraTreesRegressor\n",
        ")\n",
        "from sklearn.metrics import (\n",
        "    mean_absolute_error,\n",
        "    mean_absolute_percentage_error\n",
        ")\n",
        "from whylogs.viz import NotebookProfileVisualizer\n",
        "from whylogs.extras.image_metric import log_image"
      ]
    },
    {
      "cell_type": "markdown",
      "source": [
        "If you haven't gotten any errors, the we're all set! Let's minimize **Section 0** to make others easier to find."
      ],
      "metadata": {
        "id": "CrorDztDa0lb"
      }
    },
    {
      "cell_type": "markdown",
      "source": [
        "# Section 1. Model-centric vs data-centric AI\n",
        "\n",
        "We will demonstrate how dataset cleaning and iteration using a single simple model can be just as if not more effective than iteration on model architectures.\n",
        "\n",
        "The [Ames housing dataset](http://jse.amstat.org/v19n3/decock/AmesHousing.txt) (De Cock 2011) provides tax assessor information and sale price for properties sold in Ames, Iowa between 2006 and 2010. The dataset comes with great [data documentation](http://jse.amstat.org/v19n3/decock/DataDocumentation.txt) for understanding the features -- statisticians seem to be much more thorough."
      ],
      "metadata": {
        "id": "SB8srF9QnPjg"
      }
    },
    {
      "cell_type": "code",
      "source": [
        "ames_data = pd.read_csv(\"datasets/original_ames.csv\")"
      ],
      "metadata": {
        "id": "1b7cIuz1Wxx6"
      },
      "execution_count": null,
      "outputs": []
    },
    {
      "cell_type": "code",
      "source": [
        "ames_data.shape"
      ],
      "metadata": {
        "id": "2HNXMzsvkuNM",
        "colab": {
          "base_uri": "https://localhost:8080/"
        },
        "outputId": "63904cb6-a32e-44ec-bc11-86ff96f8063d"
      },
      "execution_count": null,
      "outputs": [
        {
          "output_type": "execute_result",
          "data": {
            "text/plain": [
              "(844, 80)"
            ]
          },
          "metadata": {},
          "execution_count": 6
        }
      ]
    },
    {
      "cell_type": "code",
      "source": [
        "helpers.peek_at_dataframe(ames_data)"
      ],
      "metadata": {
        "id": "5rnkXgOek2YR",
        "colab": {
          "base_uri": "https://localhost:8080/"
        },
        "outputId": "b4408883-cc4c-410e-86d7-843b35485d5e"
      },
      "execution_count": null,
      "outputs": [
        {
          "output_type": "stream",
          "name": "stdout",
          "text": [
            "MS SubClass (int64):\n",
            "  [20, 60, 50], 16 total\n",
            "MS Zoning (object):\n",
            "  ['RL', 'RM', 'FV'], 5 total\n",
            "Lot Frontage (float64):\n",
            "  [60.0, 80.0, 70.0], 97 total\n",
            "Lot Area (int64):\n",
            "  [7200, 9600, 9000], 677 total\n",
            "Street (object):\n",
            "  ['Pave', 'Grvl'], 2 total\n",
            "Alley (object):\n",
            "  ['Grvl', 'Pave'], 2 total\n",
            "Lot Shape (object):\n",
            "  ['Reg', 'IR1', 'IR2'], 4 total\n",
            "Land Contour (object):\n",
            "  ['Lvl', 'HLS', 'Bnk'], 4 total\n",
            "Utilities (object):\n",
            "  ['AllPub'], 1 total\n",
            "Lot Config (object):\n",
            "  ['Inside', 'Corner', 'CulDSac'], 5 total\n",
            "Land Slope (object):\n",
            "  ['Gtl', 'Mod', 'Sev'], 3 total\n",
            "Neighborhood (object):\n",
            "  ['NAmes', 'CollgCr', 'OldTown'], 27 total\n",
            "Condition 1 (object):\n",
            "  ['Norm', 'Feedr', 'Artery'], 9 total\n",
            "Condition 2 (object):\n",
            "  ['Norm', 'Feedr', 'PosA'], 5 total\n",
            "Bldg Type (object):\n",
            "  ['1Fam', 'TwnhsE', 'Duplex'], 5 total\n",
            "House Style (object):\n",
            "  ['1Story', '2Story', '1.5Fin'], 7 total\n",
            "Overall Qual (int64):\n",
            "  [5, 6, 7], 10 total\n",
            "Overall Cond (int64):\n",
            "  [5, 6, 7], 9 total\n",
            "Year Built (int64):\n",
            "  [2006, 2005, 2007], 100 total\n",
            "Year Remod/Add (int64):\n",
            "  [1950, 2006, 2007], 61 total\n",
            "Roof Style (object):\n",
            "  ['Gable', 'Hip', 'Gambrel'], 4 total\n",
            "Roof Matl (object):\n",
            "  ['CompShg', 'WdShake', 'Tar&Grv'], 3 total\n",
            "Exterior 1st (object):\n",
            "  ['VinylSd', 'HdBoard', 'MetalSd'], 13 total\n",
            "Exterior 2nd (object):\n",
            "  ['VinylSd', 'HdBoard', 'MetalSd'], 15 total\n",
            "Mas Vnr Type (object):\n",
            "  ['None', 'BrkFace', 'Stone'], 4 total\n",
            "Mas Vnr Area (float64):\n",
            "  [0.0, 120.0, 210.0], 214 total\n",
            "Exter Qual (object):\n",
            "  ['TA', 'Gd', 'Ex'], 4 total\n",
            "Exter Cond (object):\n",
            "  ['TA', 'Gd', 'Fa'], 5 total\n",
            "Foundation (object):\n",
            "  ['PConc', 'CBlock', 'BrkTil'], 6 total\n",
            "Bsmt Qual (object):\n",
            "  ['TA', 'Gd', 'Ex'], 4 total\n",
            "Bsmt Cond (object):\n",
            "  ['TA', 'Gd', 'Fa'], 5 total\n",
            "Bsmt Exposure (object):\n",
            "  ['No', 'Av', 'Gd'], 4 total\n",
            "BsmtFin Type 1 (object):\n",
            "  ['Unf', 'GLQ', 'ALQ'], 6 total\n",
            "BsmtFin SF 1 (float64):\n",
            "  [0.0, 24.0, 936.0], 447 total\n",
            "BsmtFin Type 2 (object):\n",
            "  ['Unf', 'LwQ', 'Rec'], 6 total\n",
            "BsmtFin SF 2 (float64):\n",
            "  [0.0, 144.0, 72.0], 93 total\n",
            "Bsmt Unf SF (float64):\n",
            "  [0.0, 384.0, 216.0], 544 total\n",
            "Total Bsmt SF (float64):\n",
            "  [864.0, 0.0, 672.0], 516 total\n",
            "Heating (object):\n",
            "  ['GasA', 'GasW', 'Grav'], 6 total\n",
            "Heating QC (object):\n",
            "  ['Ex', 'TA', 'Gd'], 4 total\n",
            "Central Air (object):\n",
            "  ['Y', 'N'], 2 total\n",
            "Electrical (object):\n",
            "  ['SBrkr', 'FuseA', 'FuseF'], 4 total\n",
            "1st Flr SF (int64):\n",
            "  [864, 672, 912], 541 total\n",
            "2nd Flr SF (int64):\n",
            "  [0, 546, 720], 276 total\n",
            "Low Qual Fin SF (int64):\n",
            "  [0, 53, 312], 12 total\n",
            "Gr Liv Area (int64):\n",
            "  [864, 1092, 1040], 587 total\n",
            "Bsmt Full Bath (float64):\n",
            "  [0.0, 1.0, 2.0], 3 total\n",
            "Bsmt Half Bath (float64):\n",
            "  [0.0, 1.0], 2 total\n",
            "Full Bath (int64):\n",
            "  [2, 1, 3], 5 total\n",
            "Half Bath (int64):\n",
            "  [0, 1, 2], 3 total\n",
            "Bedroom AbvGr (int64):\n",
            "  [3, 2, 4], 7 total\n",
            "Kitchen AbvGr (int64):\n",
            "  [1, 2, 0], 3 total\n",
            "Kitchen Qual (object):\n",
            "  ['TA', 'Gd', 'Ex'], 4 total\n",
            "TotRms AbvGrd (int64):\n",
            "  [6, 7, 5], 10 total\n",
            "Functional (object):\n",
            "  ['Typ', 'Min1', 'Min2'], 8 total\n",
            "Fireplaces (int64):\n",
            "  [0, 1, 2], 4 total\n",
            "Fireplace Qu (object):\n",
            "  ['Gd', 'TA', 'Fa'], 5 total\n",
            "Garage Type (object):\n",
            "  ['Attchd', 'Detchd', 'BuiltIn'], 6 total\n",
            "Garage Yr Blt (float64):\n",
            "  [2005.0, 2007.0, 2006.0], 94 total\n",
            "Garage Finish (object):\n",
            "  ['Unf', 'RFn', 'Fin'], 3 total\n",
            "Garage Cars (float64):\n",
            "  [2.0, 1.0, 3.0], 5 total\n",
            "Garage Area (float64):\n",
            "  [0.0, 440.0, 576.0], 323 total\n",
            "Garage Qual (object):\n",
            "  ['TA', 'Fa', 'Gd'], 5 total\n",
            "Garage Cond (object):\n",
            "  ['TA', 'Fa', 'Gd'], 5 total\n",
            "Paved Drive (object):\n",
            "  ['Y', 'N', 'P'], 3 total\n",
            "Wood Deck SF (int64):\n",
            "  [0, 192, 120], 203 total\n",
            "Open Porch SF (int64):\n",
            "  [0, 48, 40], 161 total\n",
            "Enclosed Porch (int64):\n",
            "  [0, 112, 128], 98 total\n",
            "3Ssn Porch (int64):\n",
            "  [0, 180, 216], 13 total\n",
            "Screen Porch (int64):\n",
            "  [0, 192, 180], 51 total\n",
            "Pool Area (int64):\n",
            "  [0, 228, 519], 4 total\n",
            "Pool QC (object):\n",
            "  ['Ex', 'Fa', 'Gd'], 3 total\n",
            "Fence (object):\n",
            "  ['MnPrv', 'GdWo', 'GdPrv'], 4 total\n",
            "Misc Feature (object):\n",
            "  ['Shed', 'TenC', 'Othr'], 3 total\n",
            "Misc Val (int64):\n",
            "  [0, 400, 450], 13 total\n",
            "Mo Sold (int64):\n",
            "  [6, 7, 5], 12 total\n",
            "Yr Sold (int64):\n",
            "  [2007, 2009, 2008], 5 total\n",
            "Sale Type (object):\n",
            "  ['WD ', 'New', 'COD'], 8 total\n",
            "Sale Condition (object):\n",
            "  ['Normal', 'Partial', 'Abnorml'], 6 total\n",
            "SalePrice (int64):\n",
            "  [190000, 155000, 140000], 457 total\n"
          ]
        }
      ]
    },
    {
      "cell_type": "code",
      "source": [
        "ames_data.head()"
      ],
      "metadata": {
        "colab": {
          "base_uri": "https://localhost:8080/",
          "height": 273
        },
        "id": "X5KXrD0a_ENb",
        "outputId": "3992297b-4e3b-4e02-9f22-74e2238a7d7b"
      },
      "execution_count": null,
      "outputs": [
        {
          "output_type": "execute_result",
          "data": {
            "text/plain": [
              "   MS SubClass MS Zoning  Lot Frontage  Lot Area Street Alley Lot Shape  \\\n",
              "0           30        RL          56.0      4130   Pave   NaN       IR1   \n",
              "1           60        RL           NaN     16545   Pave   NaN       IR1   \n",
              "2           60        RL           NaN     12388   Pave   NaN       IR1   \n",
              "3           30        RL          52.0      9022   Pave   NaN       Reg   \n",
              "4           70        RL          54.0      9399   Pave   NaN       Reg   \n",
              "\n",
              "  Land Contour Utilities Lot Config  ... Pool Area Pool QC Fence Misc Feature  \\\n",
              "0          Lvl    AllPub     Inside  ...         0     NaN   NaN          NaN   \n",
              "1          Lvl    AllPub     Inside  ...         0     NaN   NaN          NaN   \n",
              "2          Lvl    AllPub     Inside  ...         0     NaN   NaN          NaN   \n",
              "3          Lvl    AllPub     Inside  ...         0     NaN   NaN          NaN   \n",
              "4          Bnk    AllPub     Inside  ...         0     NaN   NaN          NaN   \n",
              "\n",
              "  Misc Val Mo Sold  Yr Sold  Sale Type  Sale Condition  SalePrice  \n",
              "0        0       7     2008        WD           Normal      52000  \n",
              "1        0       5     2009        WD           Normal     340000  \n",
              "2        0       8     2009        WD           Normal     249000  \n",
              "3        0       5     2009        WD           Normal     109500  \n",
              "4        0       9     2006        WD          Abnorml     167000  \n",
              "\n",
              "[5 rows x 80 columns]"
            ],
            "text/html": [
              "\n",
              "  <div id=\"df-6bcc082e-9fd1-4e74-b110-d852c48907ea\" class=\"colab-df-container\">\n",
              "    <div>\n",
              "<style scoped>\n",
              "    .dataframe tbody tr th:only-of-type {\n",
              "        vertical-align: middle;\n",
              "    }\n",
              "\n",
              "    .dataframe tbody tr th {\n",
              "        vertical-align: top;\n",
              "    }\n",
              "\n",
              "    .dataframe thead th {\n",
              "        text-align: right;\n",
              "    }\n",
              "</style>\n",
              "<table border=\"1\" class=\"dataframe\">\n",
              "  <thead>\n",
              "    <tr style=\"text-align: right;\">\n",
              "      <th></th>\n",
              "      <th>MS SubClass</th>\n",
              "      <th>MS Zoning</th>\n",
              "      <th>Lot Frontage</th>\n",
              "      <th>Lot Area</th>\n",
              "      <th>Street</th>\n",
              "      <th>Alley</th>\n",
              "      <th>Lot Shape</th>\n",
              "      <th>Land Contour</th>\n",
              "      <th>Utilities</th>\n",
              "      <th>Lot Config</th>\n",
              "      <th>...</th>\n",
              "      <th>Pool Area</th>\n",
              "      <th>Pool QC</th>\n",
              "      <th>Fence</th>\n",
              "      <th>Misc Feature</th>\n",
              "      <th>Misc Val</th>\n",
              "      <th>Mo Sold</th>\n",
              "      <th>Yr Sold</th>\n",
              "      <th>Sale Type</th>\n",
              "      <th>Sale Condition</th>\n",
              "      <th>SalePrice</th>\n",
              "    </tr>\n",
              "  </thead>\n",
              "  <tbody>\n",
              "    <tr>\n",
              "      <th>0</th>\n",
              "      <td>30</td>\n",
              "      <td>RL</td>\n",
              "      <td>56.0</td>\n",
              "      <td>4130</td>\n",
              "      <td>Pave</td>\n",
              "      <td>NaN</td>\n",
              "      <td>IR1</td>\n",
              "      <td>Lvl</td>\n",
              "      <td>AllPub</td>\n",
              "      <td>Inside</td>\n",
              "      <td>...</td>\n",
              "      <td>0</td>\n",
              "      <td>NaN</td>\n",
              "      <td>NaN</td>\n",
              "      <td>NaN</td>\n",
              "      <td>0</td>\n",
              "      <td>7</td>\n",
              "      <td>2008</td>\n",
              "      <td>WD</td>\n",
              "      <td>Normal</td>\n",
              "      <td>52000</td>\n",
              "    </tr>\n",
              "    <tr>\n",
              "      <th>1</th>\n",
              "      <td>60</td>\n",
              "      <td>RL</td>\n",
              "      <td>NaN</td>\n",
              "      <td>16545</td>\n",
              "      <td>Pave</td>\n",
              "      <td>NaN</td>\n",
              "      <td>IR1</td>\n",
              "      <td>Lvl</td>\n",
              "      <td>AllPub</td>\n",
              "      <td>Inside</td>\n",
              "      <td>...</td>\n",
              "      <td>0</td>\n",
              "      <td>NaN</td>\n",
              "      <td>NaN</td>\n",
              "      <td>NaN</td>\n",
              "      <td>0</td>\n",
              "      <td>5</td>\n",
              "      <td>2009</td>\n",
              "      <td>WD</td>\n",
              "      <td>Normal</td>\n",
              "      <td>340000</td>\n",
              "    </tr>\n",
              "    <tr>\n",
              "      <th>2</th>\n",
              "      <td>60</td>\n",
              "      <td>RL</td>\n",
              "      <td>NaN</td>\n",
              "      <td>12388</td>\n",
              "      <td>Pave</td>\n",
              "      <td>NaN</td>\n",
              "      <td>IR1</td>\n",
              "      <td>Lvl</td>\n",
              "      <td>AllPub</td>\n",
              "      <td>Inside</td>\n",
              "      <td>...</td>\n",
              "      <td>0</td>\n",
              "      <td>NaN</td>\n",
              "      <td>NaN</td>\n",
              "      <td>NaN</td>\n",
              "      <td>0</td>\n",
              "      <td>8</td>\n",
              "      <td>2009</td>\n",
              "      <td>WD</td>\n",
              "      <td>Normal</td>\n",
              "      <td>249000</td>\n",
              "    </tr>\n",
              "    <tr>\n",
              "      <th>3</th>\n",
              "      <td>30</td>\n",
              "      <td>RL</td>\n",
              "      <td>52.0</td>\n",
              "      <td>9022</td>\n",
              "      <td>Pave</td>\n",
              "      <td>NaN</td>\n",
              "      <td>Reg</td>\n",
              "      <td>Lvl</td>\n",
              "      <td>AllPub</td>\n",
              "      <td>Inside</td>\n",
              "      <td>...</td>\n",
              "      <td>0</td>\n",
              "      <td>NaN</td>\n",
              "      <td>NaN</td>\n",
              "      <td>NaN</td>\n",
              "      <td>0</td>\n",
              "      <td>5</td>\n",
              "      <td>2009</td>\n",
              "      <td>WD</td>\n",
              "      <td>Normal</td>\n",
              "      <td>109500</td>\n",
              "    </tr>\n",
              "    <tr>\n",
              "      <th>4</th>\n",
              "      <td>70</td>\n",
              "      <td>RL</td>\n",
              "      <td>54.0</td>\n",
              "      <td>9399</td>\n",
              "      <td>Pave</td>\n",
              "      <td>NaN</td>\n",
              "      <td>Reg</td>\n",
              "      <td>Bnk</td>\n",
              "      <td>AllPub</td>\n",
              "      <td>Inside</td>\n",
              "      <td>...</td>\n",
              "      <td>0</td>\n",
              "      <td>NaN</td>\n",
              "      <td>NaN</td>\n",
              "      <td>NaN</td>\n",
              "      <td>0</td>\n",
              "      <td>9</td>\n",
              "      <td>2006</td>\n",
              "      <td>WD</td>\n",
              "      <td>Abnorml</td>\n",
              "      <td>167000</td>\n",
              "    </tr>\n",
              "  </tbody>\n",
              "</table>\n",
              "<p>5 rows × 80 columns</p>\n",
              "</div>\n",
              "    <div class=\"colab-df-buttons\">\n",
              "\n",
              "  <div class=\"colab-df-container\">\n",
              "    <button class=\"colab-df-convert\" onclick=\"convertToInteractive('df-6bcc082e-9fd1-4e74-b110-d852c48907ea')\"\n",
              "            title=\"Convert this dataframe to an interactive table.\"\n",
              "            style=\"display:none;\">\n",
              "\n",
              "  <svg xmlns=\"http://www.w3.org/2000/svg\" height=\"24px\" viewBox=\"0 -960 960 960\">\n",
              "    <path d=\"M120-120v-720h720v720H120Zm60-500h600v-160H180v160Zm220 220h160v-160H400v160Zm0 220h160v-160H400v160ZM180-400h160v-160H180v160Zm440 0h160v-160H620v160ZM180-180h160v-160H180v160Zm440 0h160v-160H620v160Z\"/>\n",
              "  </svg>\n",
              "    </button>\n",
              "\n",
              "  <style>\n",
              "    .colab-df-container {\n",
              "      display:flex;\n",
              "      gap: 12px;\n",
              "    }\n",
              "\n",
              "    .colab-df-convert {\n",
              "      background-color: #E8F0FE;\n",
              "      border: none;\n",
              "      border-radius: 50%;\n",
              "      cursor: pointer;\n",
              "      display: none;\n",
              "      fill: #1967D2;\n",
              "      height: 32px;\n",
              "      padding: 0 0 0 0;\n",
              "      width: 32px;\n",
              "    }\n",
              "\n",
              "    .colab-df-convert:hover {\n",
              "      background-color: #E2EBFA;\n",
              "      box-shadow: 0px 1px 2px rgba(60, 64, 67, 0.3), 0px 1px 3px 1px rgba(60, 64, 67, 0.15);\n",
              "      fill: #174EA6;\n",
              "    }\n",
              "\n",
              "    .colab-df-buttons div {\n",
              "      margin-bottom: 4px;\n",
              "    }\n",
              "\n",
              "    [theme=dark] .colab-df-convert {\n",
              "      background-color: #3B4455;\n",
              "      fill: #D2E3FC;\n",
              "    }\n",
              "\n",
              "    [theme=dark] .colab-df-convert:hover {\n",
              "      background-color: #434B5C;\n",
              "      box-shadow: 0px 1px 3px 1px rgba(0, 0, 0, 0.15);\n",
              "      filter: drop-shadow(0px 1px 2px rgba(0, 0, 0, 0.3));\n",
              "      fill: #FFFFFF;\n",
              "    }\n",
              "  </style>\n",
              "\n",
              "    <script>\n",
              "      const buttonEl =\n",
              "        document.querySelector('#df-6bcc082e-9fd1-4e74-b110-d852c48907ea button.colab-df-convert');\n",
              "      buttonEl.style.display =\n",
              "        google.colab.kernel.accessAllowed ? 'block' : 'none';\n",
              "\n",
              "      async function convertToInteractive(key) {\n",
              "        const element = document.querySelector('#df-6bcc082e-9fd1-4e74-b110-d852c48907ea');\n",
              "        const dataTable =\n",
              "          await google.colab.kernel.invokeFunction('convertToInteractive',\n",
              "                                                    [key], {});\n",
              "        if (!dataTable) return;\n",
              "\n",
              "        const docLinkHtml = 'Like what you see? Visit the ' +\n",
              "          '<a target=\"_blank\" href=https://colab.research.google.com/notebooks/data_table.ipynb>data table notebook</a>'\n",
              "          + ' to learn more about interactive tables.';\n",
              "        element.innerHTML = '';\n",
              "        dataTable['output_type'] = 'display_data';\n",
              "        await google.colab.output.renderOutput(dataTable, element);\n",
              "        const docLink = document.createElement('div');\n",
              "        docLink.innerHTML = docLinkHtml;\n",
              "        element.appendChild(docLink);\n",
              "      }\n",
              "    </script>\n",
              "  </div>\n",
              "\n",
              "\n",
              "<div id=\"df-d5b21f86-294c-4fcf-b5a8-66c280ccfaee\">\n",
              "  <button class=\"colab-df-quickchart\" onclick=\"quickchart('df-d5b21f86-294c-4fcf-b5a8-66c280ccfaee')\"\n",
              "            title=\"Suggest charts\"\n",
              "            style=\"display:none;\">\n",
              "\n",
              "<svg xmlns=\"http://www.w3.org/2000/svg\" height=\"24px\"viewBox=\"0 0 24 24\"\n",
              "     width=\"24px\">\n",
              "    <g>\n",
              "        <path d=\"M19 3H5c-1.1 0-2 .9-2 2v14c0 1.1.9 2 2 2h14c1.1 0 2-.9 2-2V5c0-1.1-.9-2-2-2zM9 17H7v-7h2v7zm4 0h-2V7h2v10zm4 0h-2v-4h2v4z\"/>\n",
              "    </g>\n",
              "</svg>\n",
              "  </button>\n",
              "\n",
              "<style>\n",
              "  .colab-df-quickchart {\n",
              "      --bg-color: #E8F0FE;\n",
              "      --fill-color: #1967D2;\n",
              "      --hover-bg-color: #E2EBFA;\n",
              "      --hover-fill-color: #174EA6;\n",
              "      --disabled-fill-color: #AAA;\n",
              "      --disabled-bg-color: #DDD;\n",
              "  }\n",
              "\n",
              "  [theme=dark] .colab-df-quickchart {\n",
              "      --bg-color: #3B4455;\n",
              "      --fill-color: #D2E3FC;\n",
              "      --hover-bg-color: #434B5C;\n",
              "      --hover-fill-color: #FFFFFF;\n",
              "      --disabled-bg-color: #3B4455;\n",
              "      --disabled-fill-color: #666;\n",
              "  }\n",
              "\n",
              "  .colab-df-quickchart {\n",
              "    background-color: var(--bg-color);\n",
              "    border: none;\n",
              "    border-radius: 50%;\n",
              "    cursor: pointer;\n",
              "    display: none;\n",
              "    fill: var(--fill-color);\n",
              "    height: 32px;\n",
              "    padding: 0;\n",
              "    width: 32px;\n",
              "  }\n",
              "\n",
              "  .colab-df-quickchart:hover {\n",
              "    background-color: var(--hover-bg-color);\n",
              "    box-shadow: 0 1px 2px rgba(60, 64, 67, 0.3), 0 1px 3px 1px rgba(60, 64, 67, 0.15);\n",
              "    fill: var(--button-hover-fill-color);\n",
              "  }\n",
              "\n",
              "  .colab-df-quickchart-complete:disabled,\n",
              "  .colab-df-quickchart-complete:disabled:hover {\n",
              "    background-color: var(--disabled-bg-color);\n",
              "    fill: var(--disabled-fill-color);\n",
              "    box-shadow: none;\n",
              "  }\n",
              "\n",
              "  .colab-df-spinner {\n",
              "    border: 2px solid var(--fill-color);\n",
              "    border-color: transparent;\n",
              "    border-bottom-color: var(--fill-color);\n",
              "    animation:\n",
              "      spin 1s steps(1) infinite;\n",
              "  }\n",
              "\n",
              "  @keyframes spin {\n",
              "    0% {\n",
              "      border-color: transparent;\n",
              "      border-bottom-color: var(--fill-color);\n",
              "      border-left-color: var(--fill-color);\n",
              "    }\n",
              "    20% {\n",
              "      border-color: transparent;\n",
              "      border-left-color: var(--fill-color);\n",
              "      border-top-color: var(--fill-color);\n",
              "    }\n",
              "    30% {\n",
              "      border-color: transparent;\n",
              "      border-left-color: var(--fill-color);\n",
              "      border-top-color: var(--fill-color);\n",
              "      border-right-color: var(--fill-color);\n",
              "    }\n",
              "    40% {\n",
              "      border-color: transparent;\n",
              "      border-right-color: var(--fill-color);\n",
              "      border-top-color: var(--fill-color);\n",
              "    }\n",
              "    60% {\n",
              "      border-color: transparent;\n",
              "      border-right-color: var(--fill-color);\n",
              "    }\n",
              "    80% {\n",
              "      border-color: transparent;\n",
              "      border-right-color: var(--fill-color);\n",
              "      border-bottom-color: var(--fill-color);\n",
              "    }\n",
              "    90% {\n",
              "      border-color: transparent;\n",
              "      border-bottom-color: var(--fill-color);\n",
              "    }\n",
              "  }\n",
              "</style>\n",
              "\n",
              "  <script>\n",
              "    async function quickchart(key) {\n",
              "      const quickchartButtonEl =\n",
              "        document.querySelector('#' + key + ' button');\n",
              "      quickchartButtonEl.disabled = true;  // To prevent multiple clicks.\n",
              "      quickchartButtonEl.classList.add('colab-df-spinner');\n",
              "      try {\n",
              "        const charts = await google.colab.kernel.invokeFunction(\n",
              "            'suggestCharts', [key], {});\n",
              "      } catch (error) {\n",
              "        console.error('Error during call to suggestCharts:', error);\n",
              "      }\n",
              "      quickchartButtonEl.classList.remove('colab-df-spinner');\n",
              "      quickchartButtonEl.classList.add('colab-df-quickchart-complete');\n",
              "    }\n",
              "    (() => {\n",
              "      let quickchartButtonEl =\n",
              "        document.querySelector('#df-d5b21f86-294c-4fcf-b5a8-66c280ccfaee button');\n",
              "      quickchartButtonEl.style.display =\n",
              "        google.colab.kernel.accessAllowed ? 'block' : 'none';\n",
              "    })();\n",
              "  </script>\n",
              "</div>\n",
              "    </div>\n",
              "  </div>\n"
            ]
          },
          "metadata": {},
          "execution_count": 8
        }
      ]
    },
    {
      "cell_type": "code",
      "source": [],
      "metadata": {
        "id": "p9WrufP4_D0D"
      },
      "execution_count": null,
      "outputs": []
    },
    {
      "cell_type": "markdown",
      "source": [
        "## Model-centric approach\n",
        "As typical of model-centric AI, we will develop several ML models for the dataset provided."
      ],
      "metadata": {
        "id": "kzLAiIXCWsxe"
      }
    },
    {
      "cell_type": "code",
      "source": [
        "# Load test dataset\n",
        "test_ames_data = pd.read_csv(\"datasets/test_ames.csv\")"
      ],
      "metadata": {
        "id": "A1lagQLpVGfa"
      },
      "execution_count": null,
      "outputs": []
    },
    {
      "cell_type": "code",
      "source": [
        "test_ames_data.head()"
      ],
      "metadata": {
        "id": "4OwIK-SY6rDQ",
        "colab": {
          "base_uri": "https://localhost:8080/",
          "height": 273
        },
        "outputId": "ababcf90-502d-4d81-858c-ff0fa05a32dc"
      },
      "execution_count": null,
      "outputs": [
        {
          "output_type": "execute_result",
          "data": {
            "text/plain": [
              "   MS SubClass MS Zoning  Lot Frontage  Lot Area Street Alley Lot Shape  \\\n",
              "0           50        RL          51.0      6191   Pave   NaN       Reg   \n",
              "1           20        RL           NaN     10659   Pave   NaN       IR1   \n",
              "2           20        RL          39.0     16300   Pave   NaN       IR1   \n",
              "3           20        RL          75.0     10650   Pave   NaN       Reg   \n",
              "4          160        RM          21.0      1680   Pave   NaN       Reg   \n",
              "\n",
              "  Land Contour Utilities Lot Config  ... Pool Area Pool QC  Fence  \\\n",
              "0          Lvl    AllPub     Corner  ...         0     NaN    NaN   \n",
              "1          Lvl    AllPub     Inside  ...         0     NaN    NaN   \n",
              "2          Lvl    AllPub    CulDSac  ...         0     NaN  MnPrv   \n",
              "3          Lvl    AllPub     Corner  ...         0     NaN  MnPrv   \n",
              "4          Lvl    AllPub     Inside  ...         0     NaN    NaN   \n",
              "\n",
              "  Misc Feature Misc Val Mo Sold  Yr Sold  Sale Type  Sale Condition  SalePrice  \n",
              "0          NaN        0      11     2006        WD           Normal     112000  \n",
              "1          NaN        0       1     2006        COD          Normal     136500  \n",
              "2          NaN        0       1     2007        WD           Normal     130000  \n",
              "3          NaN        0       2     2010        WD           Normal     128200  \n",
              "4          NaN        0       7     2009        WD           Normal      97000  \n",
              "\n",
              "[5 rows x 80 columns]"
            ],
            "text/html": [
              "\n",
              "  <div id=\"df-52d13d5c-87fb-4b10-8278-3e03b71409a8\" class=\"colab-df-container\">\n",
              "    <div>\n",
              "<style scoped>\n",
              "    .dataframe tbody tr th:only-of-type {\n",
              "        vertical-align: middle;\n",
              "    }\n",
              "\n",
              "    .dataframe tbody tr th {\n",
              "        vertical-align: top;\n",
              "    }\n",
              "\n",
              "    .dataframe thead th {\n",
              "        text-align: right;\n",
              "    }\n",
              "</style>\n",
              "<table border=\"1\" class=\"dataframe\">\n",
              "  <thead>\n",
              "    <tr style=\"text-align: right;\">\n",
              "      <th></th>\n",
              "      <th>MS SubClass</th>\n",
              "      <th>MS Zoning</th>\n",
              "      <th>Lot Frontage</th>\n",
              "      <th>Lot Area</th>\n",
              "      <th>Street</th>\n",
              "      <th>Alley</th>\n",
              "      <th>Lot Shape</th>\n",
              "      <th>Land Contour</th>\n",
              "      <th>Utilities</th>\n",
              "      <th>Lot Config</th>\n",
              "      <th>...</th>\n",
              "      <th>Pool Area</th>\n",
              "      <th>Pool QC</th>\n",
              "      <th>Fence</th>\n",
              "      <th>Misc Feature</th>\n",
              "      <th>Misc Val</th>\n",
              "      <th>Mo Sold</th>\n",
              "      <th>Yr Sold</th>\n",
              "      <th>Sale Type</th>\n",
              "      <th>Sale Condition</th>\n",
              "      <th>SalePrice</th>\n",
              "    </tr>\n",
              "  </thead>\n",
              "  <tbody>\n",
              "    <tr>\n",
              "      <th>0</th>\n",
              "      <td>50</td>\n",
              "      <td>RL</td>\n",
              "      <td>51.0</td>\n",
              "      <td>6191</td>\n",
              "      <td>Pave</td>\n",
              "      <td>NaN</td>\n",
              "      <td>Reg</td>\n",
              "      <td>Lvl</td>\n",
              "      <td>AllPub</td>\n",
              "      <td>Corner</td>\n",
              "      <td>...</td>\n",
              "      <td>0</td>\n",
              "      <td>NaN</td>\n",
              "      <td>NaN</td>\n",
              "      <td>NaN</td>\n",
              "      <td>0</td>\n",
              "      <td>11</td>\n",
              "      <td>2006</td>\n",
              "      <td>WD</td>\n",
              "      <td>Normal</td>\n",
              "      <td>112000</td>\n",
              "    </tr>\n",
              "    <tr>\n",
              "      <th>1</th>\n",
              "      <td>20</td>\n",
              "      <td>RL</td>\n",
              "      <td>NaN</td>\n",
              "      <td>10659</td>\n",
              "      <td>Pave</td>\n",
              "      <td>NaN</td>\n",
              "      <td>IR1</td>\n",
              "      <td>Lvl</td>\n",
              "      <td>AllPub</td>\n",
              "      <td>Inside</td>\n",
              "      <td>...</td>\n",
              "      <td>0</td>\n",
              "      <td>NaN</td>\n",
              "      <td>NaN</td>\n",
              "      <td>NaN</td>\n",
              "      <td>0</td>\n",
              "      <td>1</td>\n",
              "      <td>2006</td>\n",
              "      <td>COD</td>\n",
              "      <td>Normal</td>\n",
              "      <td>136500</td>\n",
              "    </tr>\n",
              "    <tr>\n",
              "      <th>2</th>\n",
              "      <td>20</td>\n",
              "      <td>RL</td>\n",
              "      <td>39.0</td>\n",
              "      <td>16300</td>\n",
              "      <td>Pave</td>\n",
              "      <td>NaN</td>\n",
              "      <td>IR1</td>\n",
              "      <td>Lvl</td>\n",
              "      <td>AllPub</td>\n",
              "      <td>CulDSac</td>\n",
              "      <td>...</td>\n",
              "      <td>0</td>\n",
              "      <td>NaN</td>\n",
              "      <td>MnPrv</td>\n",
              "      <td>NaN</td>\n",
              "      <td>0</td>\n",
              "      <td>1</td>\n",
              "      <td>2007</td>\n",
              "      <td>WD</td>\n",
              "      <td>Normal</td>\n",
              "      <td>130000</td>\n",
              "    </tr>\n",
              "    <tr>\n",
              "      <th>3</th>\n",
              "      <td>20</td>\n",
              "      <td>RL</td>\n",
              "      <td>75.0</td>\n",
              "      <td>10650</td>\n",
              "      <td>Pave</td>\n",
              "      <td>NaN</td>\n",
              "      <td>Reg</td>\n",
              "      <td>Lvl</td>\n",
              "      <td>AllPub</td>\n",
              "      <td>Corner</td>\n",
              "      <td>...</td>\n",
              "      <td>0</td>\n",
              "      <td>NaN</td>\n",
              "      <td>MnPrv</td>\n",
              "      <td>NaN</td>\n",
              "      <td>0</td>\n",
              "      <td>2</td>\n",
              "      <td>2010</td>\n",
              "      <td>WD</td>\n",
              "      <td>Normal</td>\n",
              "      <td>128200</td>\n",
              "    </tr>\n",
              "    <tr>\n",
              "      <th>4</th>\n",
              "      <td>160</td>\n",
              "      <td>RM</td>\n",
              "      <td>21.0</td>\n",
              "      <td>1680</td>\n",
              "      <td>Pave</td>\n",
              "      <td>NaN</td>\n",
              "      <td>Reg</td>\n",
              "      <td>Lvl</td>\n",
              "      <td>AllPub</td>\n",
              "      <td>Inside</td>\n",
              "      <td>...</td>\n",
              "      <td>0</td>\n",
              "      <td>NaN</td>\n",
              "      <td>NaN</td>\n",
              "      <td>NaN</td>\n",
              "      <td>0</td>\n",
              "      <td>7</td>\n",
              "      <td>2009</td>\n",
              "      <td>WD</td>\n",
              "      <td>Normal</td>\n",
              "      <td>97000</td>\n",
              "    </tr>\n",
              "  </tbody>\n",
              "</table>\n",
              "<p>5 rows × 80 columns</p>\n",
              "</div>\n",
              "    <div class=\"colab-df-buttons\">\n",
              "\n",
              "  <div class=\"colab-df-container\">\n",
              "    <button class=\"colab-df-convert\" onclick=\"convertToInteractive('df-52d13d5c-87fb-4b10-8278-3e03b71409a8')\"\n",
              "            title=\"Convert this dataframe to an interactive table.\"\n",
              "            style=\"display:none;\">\n",
              "\n",
              "  <svg xmlns=\"http://www.w3.org/2000/svg\" height=\"24px\" viewBox=\"0 -960 960 960\">\n",
              "    <path d=\"M120-120v-720h720v720H120Zm60-500h600v-160H180v160Zm220 220h160v-160H400v160Zm0 220h160v-160H400v160ZM180-400h160v-160H180v160Zm440 0h160v-160H620v160ZM180-180h160v-160H180v160Zm440 0h160v-160H620v160Z\"/>\n",
              "  </svg>\n",
              "    </button>\n",
              "\n",
              "  <style>\n",
              "    .colab-df-container {\n",
              "      display:flex;\n",
              "      gap: 12px;\n",
              "    }\n",
              "\n",
              "    .colab-df-convert {\n",
              "      background-color: #E8F0FE;\n",
              "      border: none;\n",
              "      border-radius: 50%;\n",
              "      cursor: pointer;\n",
              "      display: none;\n",
              "      fill: #1967D2;\n",
              "      height: 32px;\n",
              "      padding: 0 0 0 0;\n",
              "      width: 32px;\n",
              "    }\n",
              "\n",
              "    .colab-df-convert:hover {\n",
              "      background-color: #E2EBFA;\n",
              "      box-shadow: 0px 1px 2px rgba(60, 64, 67, 0.3), 0px 1px 3px 1px rgba(60, 64, 67, 0.15);\n",
              "      fill: #174EA6;\n",
              "    }\n",
              "\n",
              "    .colab-df-buttons div {\n",
              "      margin-bottom: 4px;\n",
              "    }\n",
              "\n",
              "    [theme=dark] .colab-df-convert {\n",
              "      background-color: #3B4455;\n",
              "      fill: #D2E3FC;\n",
              "    }\n",
              "\n",
              "    [theme=dark] .colab-df-convert:hover {\n",
              "      background-color: #434B5C;\n",
              "      box-shadow: 0px 1px 3px 1px rgba(0, 0, 0, 0.15);\n",
              "      filter: drop-shadow(0px 1px 2px rgba(0, 0, 0, 0.3));\n",
              "      fill: #FFFFFF;\n",
              "    }\n",
              "  </style>\n",
              "\n",
              "    <script>\n",
              "      const buttonEl =\n",
              "        document.querySelector('#df-52d13d5c-87fb-4b10-8278-3e03b71409a8 button.colab-df-convert');\n",
              "      buttonEl.style.display =\n",
              "        google.colab.kernel.accessAllowed ? 'block' : 'none';\n",
              "\n",
              "      async function convertToInteractive(key) {\n",
              "        const element = document.querySelector('#df-52d13d5c-87fb-4b10-8278-3e03b71409a8');\n",
              "        const dataTable =\n",
              "          await google.colab.kernel.invokeFunction('convertToInteractive',\n",
              "                                                    [key], {});\n",
              "        if (!dataTable) return;\n",
              "\n",
              "        const docLinkHtml = 'Like what you see? Visit the ' +\n",
              "          '<a target=\"_blank\" href=https://colab.research.google.com/notebooks/data_table.ipynb>data table notebook</a>'\n",
              "          + ' to learn more about interactive tables.';\n",
              "        element.innerHTML = '';\n",
              "        dataTable['output_type'] = 'display_data';\n",
              "        await google.colab.output.renderOutput(dataTable, element);\n",
              "        const docLink = document.createElement('div');\n",
              "        docLink.innerHTML = docLinkHtml;\n",
              "        element.appendChild(docLink);\n",
              "      }\n",
              "    </script>\n",
              "  </div>\n",
              "\n",
              "\n",
              "<div id=\"df-2e67359a-cf5f-4ebe-8f3c-227bef641676\">\n",
              "  <button class=\"colab-df-quickchart\" onclick=\"quickchart('df-2e67359a-cf5f-4ebe-8f3c-227bef641676')\"\n",
              "            title=\"Suggest charts\"\n",
              "            style=\"display:none;\">\n",
              "\n",
              "<svg xmlns=\"http://www.w3.org/2000/svg\" height=\"24px\"viewBox=\"0 0 24 24\"\n",
              "     width=\"24px\">\n",
              "    <g>\n",
              "        <path d=\"M19 3H5c-1.1 0-2 .9-2 2v14c0 1.1.9 2 2 2h14c1.1 0 2-.9 2-2V5c0-1.1-.9-2-2-2zM9 17H7v-7h2v7zm4 0h-2V7h2v10zm4 0h-2v-4h2v4z\"/>\n",
              "    </g>\n",
              "</svg>\n",
              "  </button>\n",
              "\n",
              "<style>\n",
              "  .colab-df-quickchart {\n",
              "      --bg-color: #E8F0FE;\n",
              "      --fill-color: #1967D2;\n",
              "      --hover-bg-color: #E2EBFA;\n",
              "      --hover-fill-color: #174EA6;\n",
              "      --disabled-fill-color: #AAA;\n",
              "      --disabled-bg-color: #DDD;\n",
              "  }\n",
              "\n",
              "  [theme=dark] .colab-df-quickchart {\n",
              "      --bg-color: #3B4455;\n",
              "      --fill-color: #D2E3FC;\n",
              "      --hover-bg-color: #434B5C;\n",
              "      --hover-fill-color: #FFFFFF;\n",
              "      --disabled-bg-color: #3B4455;\n",
              "      --disabled-fill-color: #666;\n",
              "  }\n",
              "\n",
              "  .colab-df-quickchart {\n",
              "    background-color: var(--bg-color);\n",
              "    border: none;\n",
              "    border-radius: 50%;\n",
              "    cursor: pointer;\n",
              "    display: none;\n",
              "    fill: var(--fill-color);\n",
              "    height: 32px;\n",
              "    padding: 0;\n",
              "    width: 32px;\n",
              "  }\n",
              "\n",
              "  .colab-df-quickchart:hover {\n",
              "    background-color: var(--hover-bg-color);\n",
              "    box-shadow: 0 1px 2px rgba(60, 64, 67, 0.3), 0 1px 3px 1px rgba(60, 64, 67, 0.15);\n",
              "    fill: var(--button-hover-fill-color);\n",
              "  }\n",
              "\n",
              "  .colab-df-quickchart-complete:disabled,\n",
              "  .colab-df-quickchart-complete:disabled:hover {\n",
              "    background-color: var(--disabled-bg-color);\n",
              "    fill: var(--disabled-fill-color);\n",
              "    box-shadow: none;\n",
              "  }\n",
              "\n",
              "  .colab-df-spinner {\n",
              "    border: 2px solid var(--fill-color);\n",
              "    border-color: transparent;\n",
              "    border-bottom-color: var(--fill-color);\n",
              "    animation:\n",
              "      spin 1s steps(1) infinite;\n",
              "  }\n",
              "\n",
              "  @keyframes spin {\n",
              "    0% {\n",
              "      border-color: transparent;\n",
              "      border-bottom-color: var(--fill-color);\n",
              "      border-left-color: var(--fill-color);\n",
              "    }\n",
              "    20% {\n",
              "      border-color: transparent;\n",
              "      border-left-color: var(--fill-color);\n",
              "      border-top-color: var(--fill-color);\n",
              "    }\n",
              "    30% {\n",
              "      border-color: transparent;\n",
              "      border-left-color: var(--fill-color);\n",
              "      border-top-color: var(--fill-color);\n",
              "      border-right-color: var(--fill-color);\n",
              "    }\n",
              "    40% {\n",
              "      border-color: transparent;\n",
              "      border-right-color: var(--fill-color);\n",
              "      border-top-color: var(--fill-color);\n",
              "    }\n",
              "    60% {\n",
              "      border-color: transparent;\n",
              "      border-right-color: var(--fill-color);\n",
              "    }\n",
              "    80% {\n",
              "      border-color: transparent;\n",
              "      border-right-color: var(--fill-color);\n",
              "      border-bottom-color: var(--fill-color);\n",
              "    }\n",
              "    90% {\n",
              "      border-color: transparent;\n",
              "      border-bottom-color: var(--fill-color);\n",
              "    }\n",
              "  }\n",
              "</style>\n",
              "\n",
              "  <script>\n",
              "    async function quickchart(key) {\n",
              "      const quickchartButtonEl =\n",
              "        document.querySelector('#' + key + ' button');\n",
              "      quickchartButtonEl.disabled = true;  // To prevent multiple clicks.\n",
              "      quickchartButtonEl.classList.add('colab-df-spinner');\n",
              "      try {\n",
              "        const charts = await google.colab.kernel.invokeFunction(\n",
              "            'suggestCharts', [key], {});\n",
              "      } catch (error) {\n",
              "        console.error('Error during call to suggestCharts:', error);\n",
              "      }\n",
              "      quickchartButtonEl.classList.remove('colab-df-spinner');\n",
              "      quickchartButtonEl.classList.add('colab-df-quickchart-complete');\n",
              "    }\n",
              "    (() => {\n",
              "      let quickchartButtonEl =\n",
              "        document.querySelector('#df-2e67359a-cf5f-4ebe-8f3c-227bef641676 button');\n",
              "      quickchartButtonEl.style.display =\n",
              "        google.colab.kernel.accessAllowed ? 'block' : 'none';\n",
              "    })();\n",
              "  </script>\n",
              "</div>\n",
              "    </div>\n",
              "  </div>\n"
            ]
          },
          "metadata": {},
          "execution_count": 10
        }
      ]
    },
    {
      "cell_type": "code",
      "source": [
        "# References to models\n",
        "models = {\n",
        "    \"RF\": RandomForestRegressor(),\n",
        "    \"AdaBoost\": AdaBoostRegressor(),\n",
        "    \"ExtraTrees\": ExtraTreesRegressor()\n",
        "}"
      ],
      "metadata": {
        "id": "-LaLPlrxiGuv"
      },
      "execution_count": null,
      "outputs": []
    },
    {
      "cell_type": "code",
      "source": [
        "# Run model prediction and evaluation for all models\n",
        "X_train, X_test, y_train, y_test = helpers.prepare_for_model_training(\n",
        "    train_df=ames_data,\n",
        "    test_df=test_ames_data,\n",
        "    target_column=\"SalePrice\",\n",
        ")\n",
        "\n",
        "for model_name, model in models.items():\n",
        "    print(model_name)\n",
        "    model.fit(X_train, y_train)\n",
        "    y_pred = model.predict(X_test)\n",
        "\n",
        "    print(\"  MAE:\", mean_absolute_error(y_test, y_pred))\n",
        "    print(\"  MAPE:\", mean_absolute_percentage_error(y_test, y_pred), \"\\n\")"
      ],
      "metadata": {
        "id": "1B3d2QA1UEK8",
        "colab": {
          "base_uri": "https://localhost:8080/"
        },
        "outputId": "16058b8f-e998-4107-c57e-9f086b0d28c7"
      },
      "execution_count": null,
      "outputs": [
        {
          "output_type": "stream",
          "name": "stdout",
          "text": [
            "RF\n",
            "  MAE: 13790.585328083991\n",
            "  MAPE: 0.07967679651884382 \n",
            "\n",
            "AdaBoost\n",
            "  MAE: 18583.88709129945\n",
            "  MAPE: 0.11452043816943304 \n",
            "\n",
            "ExtraTrees\n",
            "  MAE: 14559.632388451442\n",
            "  MAPE: 0.08156706193755117 \n",
            "\n"
          ]
        }
      ]
    },
    {
      "cell_type": "markdown",
      "source": [
        "Great! Let's compare our results with the data-centric approach."
      ],
      "metadata": {
        "id": "-I11d4BXTIRf"
      }
    },
    {
      "cell_type": "markdown",
      "source": [
        "## Data-centric approach\n",
        "Let's now load three prepared variations of the Ames housing dataset of increasing dataset quality: **`ames_data`** (above), **`improved_ames_data`**, **`best_ames_data`**.\n",
        "\n",
        "We will investigate exactly how this dataset was iterated on and improved later in Section 2."
      ],
      "metadata": {
        "id": "roDl9QBrWu5f"
      }
    },
    {
      "cell_type": "code",
      "source": [
        "# Load and reference dataset variations\n",
        "improved_ames_data = pd.read_csv(\"datasets/improved_ames.csv\")\n",
        "cleanest_ames_data = pd.read_csv(\"datasets/best_ames.csv\")\n",
        "\n",
        "datasets = {\n",
        "    \"Ames data\": ames_data,\n",
        "    \"Improved data\": improved_ames_data,\n",
        "    \"Cleanest data\": cleanest_ames_data\n",
        "}"
      ],
      "metadata": {
        "id": "pf8UwaiOnduM"
      },
      "execution_count": null,
      "outputs": []
    },
    {
      "cell_type": "code",
      "source": [
        "# Run model prediction and evaluation for all dataset variations\n",
        "model = RandomForestRegressor()\n",
        "\n",
        "for dataset_name, dataset in datasets.items():\n",
        "    print(dataset_name)\n",
        "\n",
        "    X_train, X_test, y_train, y_test = helpers.prepare_for_model_training(\n",
        "        train_df=dataset,\n",
        "        test_df=test_ames_data,\n",
        "        target_column=\"SalePrice\",\n",
        "    )\n",
        "\n",
        "    model.fit(X_train, y_train)\n",
        "    y_pred = model.predict(X_test)\n",
        "\n",
        "    print(\"  MAE:\", mean_absolute_error(y_test, y_pred))\n",
        "    print(\"  MAPE:\", mean_absolute_percentage_error(y_test, y_pred), \"\\n\")"
      ],
      "metadata": {
        "id": "G7jOnoBJT8qL",
        "colab": {
          "base_uri": "https://localhost:8080/"
        },
        "outputId": "7dfa3177-be06-418c-abd5-bc8ed4fc2a08"
      },
      "execution_count": null,
      "outputs": [
        {
          "output_type": "stream",
          "name": "stdout",
          "text": [
            "Ames data\n",
            "  MAE: 14273.317427821521\n",
            "  MAPE: 0.08161069974835317 \n",
            "\n",
            "Improved data\n",
            "  MAE: 13612.328110236222\n",
            "  MAPE: 0.07785682312099437 \n",
            "\n",
            "Cleanest data\n",
            "  MAE: 12828.048792650918\n",
            "  MAPE: 0.07428364942784614 \n",
            "\n"
          ]
        }
      ]
    },
    {
      "cell_type": "markdown",
      "source": [
        "You may see that your improved and cleanest datasets yielded better results using the default Random Forest model compared to the more advanced models above.\n",
        "\n",
        "(However, this may not be the case due to the randomized nature of model fitting.)"
      ],
      "metadata": {
        "id": "eORwxeN1Gr0U"
      }
    },
    {
      "cell_type": "markdown",
      "source": [
        "# Section 2. Characterizing datasets and quality\n",
        "\n",
        "We haven't yet tried to understand the features of the Ames dataset, which is an important thing to do *before* training a model. Let's do so now.\n",
        "\n",
        "We will demonstrate several data quality issues found in the datasets by reverse engineering them -- exploring the variations of the Ames housing dataset introduced in Section 1."
      ],
      "metadata": {
        "id": "WbVDWL3Nnfgb"
      }
    },
    {
      "cell_type": "markdown",
      "source": [
        "## Profiling datasets and visualizing distribution drift\n",
        "\n",
        "We'll start by profiling our datasets using whylogs. Profiles can be passed into a visualizer for informative charts about the data. We'll then use it to conveniently display the distribution drift."
      ],
      "metadata": {
        "id": "v_HDrBylP9wB"
      }
    },
    {
      "cell_type": "code",
      "source": [
        "# Log dataset profiles for original dataset and variations\n",
        "ames_profile = why.log(ames_data).profile()\n",
        "improved_ames_profile = why.log(improved_ames_data).profile()\n",
        "cleanest_ames_profile = why.log(cleanest_ames_data).profile()\n",
        "\n",
        "# Create visualizer and generate drift report\n",
        "viz = NotebookProfileVisualizer()\n",
        "viz.set_profiles(target_profile_view=improved_ames_profile.view(),\n",
        "                 reference_profile_view=ames_profile.view())\n",
        "viz.summary_drift_report()"
      ],
      "metadata": {
        "id": "2Dz-Cc0gnwek"
      },
      "execution_count": null,
      "outputs": []
    },
    {
      "cell_type": "code",
      "source": [
        "# Create visualizer and generate drift report\n",
        "viz = NotebookProfileVisualizer()\n",
        "viz.set_profiles(target_profile_view=cleanest_ames_profile.view(),\n",
        "                 reference_profile_view=improved_ames_profile.view())\n",
        "viz.summary_drift_report()"
      ],
      "metadata": {
        "id": "ETyO-k6yDQdy"
      },
      "execution_count": null,
      "outputs": []
    },
    {
      "cell_type": "markdown",
      "source": [
        "We can also show distribution comparisons for single features. This is helpful in investigating high drift features such as `Gr Liv Area`, the ground floor living area in square feet."
      ],
      "metadata": {
        "id": "_okmLUDBR2_O"
      }
    },
    {
      "cell_type": "code",
      "source": [
        "viz.distribution_chart(feature_name=\"Sale Condition\")"
      ],
      "metadata": {
        "id": "Yd2rMHNZSsSH"
      },
      "execution_count": null,
      "outputs": []
    },
    {
      "cell_type": "code",
      "source": [
        "viz.distribution_chart(feature_name=\"MS Zoning\")"
      ],
      "metadata": {
        "id": "UScuLiEUE0uh"
      },
      "execution_count": null,
      "outputs": []
    },
    {
      "cell_type": "code",
      "source": [
        "viz.distribution_chart(feature_name=\"Sale Condition\")"
      ],
      "metadata": {
        "id": "K2pwTLIXFVBq"
      },
      "execution_count": null,
      "outputs": []
    },
    {
      "cell_type": "markdown",
      "source": [
        "Try to determine what other features may be causing the differences between each variant compared to the original Ames dataset using whylogs and other data tools of your choosing."
      ],
      "metadata": {
        "id": "ffErHgjXS6Gb"
      }
    },
    {
      "cell_type": "markdown",
      "source": [
        "# Section 3. Production scale and complexity\n",
        "\n",
        "Let's explore how we might profile data at production scale in more complex environments, such as streaming and distributed data."
      ],
      "metadata": {
        "id": "fefWt_w4n7jO"
      }
    },
    {
      "cell_type": "code",
      "source": [
        "# Load large data profiles\n",
        "production_profile_views = []\n",
        "for file_path in glob.glob(\"production/*.bin\"):\n",
        "    production_profile_views.append(why.read(file_path).view())"
      ],
      "metadata": {
        "id": "3sGoUHLLUNXa"
      },
      "execution_count": null,
      "outputs": []
    },
    {
      "cell_type": "markdown",
      "source": [
        "Let's look more closely at one. Notice how many rows stored in the `counts/n` column!"
      ],
      "metadata": {
        "id": "v9ItNi-SUvaj"
      }
    },
    {
      "cell_type": "code",
      "source": [
        "# Inspecting a profile view\n",
        "selected_profile_view = production_profile_views[-1]\n",
        "selected_profile_view.to_pandas()"
      ],
      "metadata": {
        "id": "uqkTY0Qffo2K"
      },
      "execution_count": null,
      "outputs": []
    },
    {
      "cell_type": "markdown",
      "source": [
        "Now, let's talk about merging whylogs profiles. The mergability of whylogs is critical for many production use cases where distributed computing and large dataset sizes make it difficult to work with raw data or precalculated metrics.\n",
        "\n",
        "In whylogs, merging is easy as calling merge on two profile views."
      ],
      "metadata": {
        "id": "EutMyEklhXOD"
      }
    },
    {
      "cell_type": "code",
      "source": [
        "merged_profile_view = production_profile_views[0].merge(production_profile_views[-1])\n",
        "merged_profile_view.to_pandas()"
      ],
      "metadata": {
        "id": "QMQR8nflh4YW"
      },
      "execution_count": null,
      "outputs": []
    },
    {
      "cell_type": "markdown",
      "source": [
        "The alternative to saving many separate profiles and merging them is using a *rolling logger*, which can combine profiles in a streaming fashion."
      ],
      "metadata": {
        "id": "zT3ulhgrchz3"
      }
    },
    {
      "cell_type": "code",
      "source": [
        "# Rolling loggers\n",
        "prod_logger = why.logger(\n",
        "    model = \"rolling\",\n",
        "    interval = 1,\n",
        "    when = \"H\")\n",
        "\n",
        "# Then, use it like this:\n",
        "# prod_logger.log()"
      ],
      "metadata": {
        "id": "fl3PiuzJcbkM"
      },
      "execution_count": null,
      "outputs": []
    },
    {
      "cell_type": "markdown",
      "source": [
        "Unlike static profiling tools that use static numbers as telemetry, more advanced tools can store more complex data structures.\n",
        "\n",
        "For example, let's take a look at the **distribution** and **frequent_items** metrics for the `Mo Sold` feature."
      ],
      "metadata": {
        "id": "YtDq7JKGVXfj"
      }
    },
    {
      "cell_type": "code",
      "source": [
        "merged_profile_view._columns[\"Mo Sold\"].get_metric(\"frequent_items\")"
      ],
      "metadata": {
        "id": "0lCYZAOFV5xE"
      },
      "execution_count": null,
      "outputs": []
    },
    {
      "cell_type": "code",
      "source": [
        "kll_sketch = merged_profile_view._columns[\"Mo Sold\"].get_metric(\"distribution\").kll.value\n",
        "kll_sketch.get_quantiles([0, 0.1, 0.543, 0.9998])"
      ],
      "metadata": {
        "id": "Q4NXa3oWUOpg"
      },
      "execution_count": null,
      "outputs": []
    },
    {
      "cell_type": "markdown",
      "source": [
        "While our examples so far have been on batches of data, whylogs was built from the ground up to work well for streaming datasets just as easily.\n",
        "\n",
        "See our documentation on [rolling loggers](https://github.com/whylabs/whylogs/blob/mainline/python/examples/advanced/Log_Rotation_for_Streaming_Data/Streaming_Data_with_Log_Rotation.ipynb) for streaming use cases as well as examples using [Fugue](https://github.com/whylabs/whylogs/blob/mainline/python/examples/integrations/Fugue_Profiling.ipynb), [Dask](https://github.com/whylabs/whylogs/blob/mainline/python/examples/integrations/Dask_Profiling.ipynb), and [Kafka](https://github.com/whylabs/whylogs/tree/mainline/python/examples/integrations/kafka-example)."
      ],
      "metadata": {
        "id": "abGumJ5Yiayl"
      }
    },
    {
      "cell_type": "markdown",
      "source": [
        "# Section 4. Production DCAI prinicples\n",
        "\n",
        "We will see how some of these DCAI principles become more nuanced in a production setting with LLMs that we want to actively monitor."
      ],
      "metadata": {
        "id": "YP95PQfWhewX"
      }
    },
    {
      "cell_type": "code",
      "source": [
        "from langkit import llm_metrics"
      ],
      "metadata": {
        "id": "oWgpLA5hSi3r"
      },
      "execution_count": null,
      "outputs": []
    },
    {
      "cell_type": "code",
      "source": [
        "import openai"
      ],
      "metadata": {
        "id": "8aFqRFi4x6JJ"
      },
      "execution_count": null,
      "outputs": []
    },
    {
      "cell_type": "code",
      "source": [
        "active_llm_logger = why.logger()"
      ],
      "metadata": {
        "id": "1Kq3N2KjmDwR"
      },
      "execution_count": null,
      "outputs": []
    },
    {
      "cell_type": "code",
      "source": [
        "def user_request():\n",
        "    # Take request\n",
        "    request = input(\"\\nEnter your desired item to make a recipe\" \\\n",
        "                    \"(or 'quit'):\")\n",
        "    if request.lower() == \"quit\":\n",
        "        raise KeyboardInterrupt()\n",
        "\n",
        "    # Log request\n",
        "    active_llm_logger.log({\"request\": request})\n",
        "\n",
        "    return request"
      ],
      "metadata": {
        "id": "6dU8kN4QSiw7"
      },
      "execution_count": null,
      "outputs": []
    },
    {
      "cell_type": "code",
      "source": [
        "def prompt_llm(request):\n",
        "    # Transform prompt\n",
        "    prompt = f\"\"\"Please give me a short recipe for creating\"\\\n",
        "    the following item in up to 6 steps. Each step of the recipe \"\\\n",
        "    should be summarized in no more than 200 characters.\"\\\n",
        "    Item: {request}\"\"\"\n",
        "\n",
        "    # Log prompt\n",
        "    active_llm_logger.log({\"prompt\": prompt})\n",
        "\n",
        "    # Collect response from LLM\n",
        "    response = openai.ChatCompletion.create(\n",
        "        model = \"gpt-3.5-turbo\",\n",
        "        messages = [{\n",
        "            \"role\": \"system\",\n",
        "            \"content\": prompt\n",
        "        }]\n",
        "    )[\"choices\"][0][\"message\"][\"content\"]\n",
        "\n",
        "    # Log response\n",
        "    active_llm_logger.log({\"response\": response})\n",
        "\n",
        "    return response"
      ],
      "metadata": {
        "id": "kqtNTI7zSibZ"
      },
      "execution_count": null,
      "outputs": []
    },
    {
      "cell_type": "code",
      "source": [
        "def user_reply_success(request,response):\n",
        "    # Create and print user reply\n",
        "    reply = f\"\\nSuccess! Here is the recipe for\"\\\n",
        "            f\"{request}:\\n{response}\"\n",
        "    print(reply)\n",
        "\n",
        "    #Log reply\n",
        "    active_llm_logger.log({\"reply\": reply})"
      ],
      "metadata": {
        "id": "2I3mJCGwlMG6"
      },
      "execution_count": null,
      "outputs": []
    },
    {
      "cell_type": "code",
      "source": [
        "def user_reply_failure(request = \"your request\"):\n",
        "    # Create and print user reply\n",
        "    reply = (\"\\nUnfortunately, we are not able to provide a recipe for \" \\\n",
        "            f\"{request} at this time. Please try Recipe Creator 900 \" \\\n",
        "            f\"in the future.\")\n",
        "    print(reply)\n",
        "\n",
        "    #Log reply\n",
        "    active_llm_logger.log({\"reply\": reply})"
      ],
      "metadata": {
        "id": "BiqF1x3llMEP"
      },
      "execution_count": null,
      "outputs": []
    },
    {
      "cell_type": "code",
      "source": [
        "class LLMApplicationValidationError(ValueError):\n",
        "    pass"
      ],
      "metadata": {
        "id": "MRwn1NnZlMBc"
      },
      "execution_count": null,
      "outputs": []
    },
    {
      "cell_type": "code",
      "source": [
        "while True:\n",
        "    try:\n",
        "        request = user_request()\n",
        "        response = prompt_llm(request)\n",
        "        user_reply_success(request, response)\n",
        "    except KeyboardInterrupt:\n",
        "        break\n",
        "    except LLMApplicationValidationError:\n",
        "        user_reply_failure(request)\n",
        "        break"
      ],
      "metadata": {
        "id": "Qb2PK4yGlL_f"
      },
      "execution_count": null,
      "outputs": []
    },
    {
      "cell_type": "markdown",
      "source": [
        "But often in production, ML models are parts of overall systems. Let's see a data-centric approach to such systems where we use this data"
      ],
      "metadata": {
        "id": "wGYBVEL1lx6d"
      }
    },
    {
      "cell_type": "code",
      "source": [
        "from whylogs.core.relations import Predicate\n",
        "from whylogs.core.metrics.condition_count_metric import Condition\n",
        "from whylogs.core.validators import ConditionValidator"
      ],
      "metadata": {
        "id": "ft64UR80lL87"
      },
      "execution_count": null,
      "outputs": []
    },
    {
      "cell_type": "code",
      "source": [
        "def raise_error(validator_name, condition_name, value):\n",
        "    raise LLMApplicationValidationError(\n",
        "        f\"Failed {validator_name} with value {value}.\"\n",
        "    )"
      ],
      "metadata": {
        "id": "_uXFIdhOlL6r"
      },
      "execution_count": null,
      "outputs": []
    },
    {
      "cell_type": "code",
      "source": [
        "low_condition = {\"<0.3\": Condition(Predicate().less_than(0.3))}"
      ],
      "metadata": {
        "id": "HTzmPLi4lL4M"
      },
      "execution_count": null,
      "outputs": []
    },
    {
      "cell_type": "code",
      "source": [
        "toxicity_validator = ConditionValidator(\n",
        "    name = \"Toxic\",\n",
        "    conditions = low_condition,\n",
        "    actions = [raise_error]\n",
        ")"
      ],
      "metadata": {
        "id": "o3LemUtolL1r"
      },
      "execution_count": null,
      "outputs": []
    },
    {
      "cell_type": "code",
      "source": [
        "refusal_validator = ConditionValidator(\n",
        "    name = \"Refusal\",\n",
        "    conditions = low_condition,\n",
        "    actions = [raise_error]\n",
        ")"
      ],
      "metadata": {
        "id": "ZCTN2bhLlLza"
      },
      "execution_count": null,
      "outputs": []
    },
    {
      "cell_type": "code",
      "source": [
        "llm_validators = {\n",
        "    \"prompt.toxicity\": [toxicity_validator],\n",
        "    \"response.refusal_similarity\": [refusal_validator]\n",
        "}"
      ],
      "metadata": {
        "id": "bvgoVZaolLwr"
      },
      "execution_count": null,
      "outputs": []
    },
    {
      "cell_type": "code",
      "source": [
        "from whylogs.experimental.core.udf_schema import udf_schema\n",
        "\n",
        "active_llm_logger = why.logger(\n",
        "    model = \"rolling\",\n",
        "    interval = 5,\n",
        "    when = \"M\",\n",
        "    base_name = \"active_llm\",\n",
        "    schema = udf_schema(validators = llm_validators)\n",
        ")"
      ],
      "metadata": {
        "id": "16ogGSRalLuK"
      },
      "execution_count": null,
      "outputs": []
    },
    {
      "cell_type": "code",
      "source": [
        "active_llm_logger.log(\n",
        "    {\"response\":\"I'm sorry, but I can't answer that.\"}\n",
        ")"
      ],
      "metadata": {
        "id": "shJ2RdDolLjh"
      },
      "execution_count": null,
      "outputs": []
    },
    {
      "cell_type": "code",
      "source": [
        "while True:\n",
        "    try:\n",
        "        request = user_request()\n",
        "        response = prompt_llm(request)\n",
        "        user_reply_success(request, response)\n",
        "    except KeyboardInterrupt:\n",
        "        break\n",
        "    except LLMApplicationValidationError:\n",
        "        user_reply_failure(request)\n",
        "        break"
      ],
      "metadata": {
        "id": "sis2tiVulo2v"
      },
      "execution_count": null,
      "outputs": []
    },
    {
      "cell_type": "markdown",
      "source": [
        "# Section 5. Characterizing image data\n",
        "\n",
        "Characterizing and improving the quality of unstructured data like images and text looks quite different than that of tabular data at times. Unstructured data is often very high-dimensional and complex causing human labeling to take a more important role.\n",
        "\n",
        "But there are several efforts that go the opposite direction -- using simple rules, metrics, labeling functions to create higher quality data systems. We'll look at simple metrics that are valuable for image data."
      ],
      "metadata": {
        "id": "vdbEOZ1zhj0k"
      }
    },
    {
      "cell_type": "markdown",
      "source": [
        "## Viewing and logging example images\n",
        "\n",
        "We take just four images from the [Ahmed & Moustafa (2016) dataset](https://github.com/emanhamed/Houses-dataset) for a home listing for our example."
      ],
      "metadata": {
        "id": "ZFbNfC4jDjhr"
      }
    },
    {
      "cell_type": "code",
      "source": [
        "%pip install --upgrade pillow"
      ],
      "metadata": {
        "id": "yhF501SibrM_"
      },
      "execution_count": null,
      "outputs": []
    },
    {
      "cell_type": "code",
      "source": [
        "from PIL import Image"
      ],
      "metadata": {
        "id": "lSRI4wG8xS3s"
      },
      "execution_count": null,
      "outputs": []
    },
    {
      "cell_type": "code",
      "source": [
        "# Re-importing in case we restart runtime (needed for Google Colab)\n",
        "import helpers\n",
        "import whylogs as why\n",
        "from whylogs.viz import NotebookProfileVisualizer\n",
        "from whylogs.extras.image_metric import log_image"
      ],
      "metadata": {
        "id": "W1XAAlsw0-rm"
      },
      "execution_count": null,
      "outputs": []
    },
    {
      "cell_type": "code",
      "source": [
        "frontal_img = Image.open(\"images/99_frontal.jpg\")\n",
        "frontal_img"
      ],
      "metadata": {
        "id": "ELCszv-j9iQK"
      },
      "execution_count": null,
      "outputs": []
    },
    {
      "cell_type": "code",
      "source": [
        "bedroom_img = Image.open(\"images/99_bedroom.jpg\")\n",
        "bedroom_img"
      ],
      "metadata": {
        "id": "9oJ8tOIiDYlQ"
      },
      "execution_count": null,
      "outputs": []
    },
    {
      "cell_type": "code",
      "source": [
        "bathroom_img = Image.open(\"images/99_bathroom.jpg\")\n",
        "bathroom_img"
      ],
      "metadata": {
        "id": "ZIvw39NqFTfw"
      },
      "execution_count": null,
      "outputs": []
    },
    {
      "cell_type": "code",
      "source": [
        "kitchen_img = Image.open(\"images/99_kitchen.jpg\")\n",
        "kitchen_img"
      ],
      "metadata": {
        "id": "FcDSOxayDY3I"
      },
      "execution_count": null,
      "outputs": []
    },
    {
      "cell_type": "code",
      "source": [
        "# Logging several related images\n",
        "image_profile = log_image({\n",
        "    \"frontal\": frontal_img,\n",
        "    \"bedroom\": bedroom_img,\n",
        "    \"bathroom\": bathroom_img,\n",
        "    \"kitchen\": kitchen_img\n",
        "})"
      ],
      "metadata": {
        "id": "TO9zxBqbFgEk"
      },
      "execution_count": null,
      "outputs": []
    },
    {
      "cell_type": "markdown",
      "source": [
        "## Simple metrics for images\n",
        "\n",
        "### Brainstorm\n",
        "\n",
        "What simple metrics could we use to distinguish between these images?"
      ],
      "metadata": {
        "id": "JkSfvo97EQ1B"
      }
    },
    {
      "cell_type": "markdown",
      "source": [
        "### Done? See whylogs defaults\n",
        "\n",
        "After brainstorming, run the function to see a list of what whylogs collects by default."
      ],
      "metadata": {
        "id": "zm-3y5wZSE3G"
      }
    },
    {
      "cell_type": "code",
      "source": [
        "helpers.whylogs_image_metrics_text()"
      ],
      "metadata": {
        "id": "61CirqBwPkay"
      },
      "execution_count": null,
      "outputs": []
    },
    {
      "cell_type": "markdown",
      "source": [
        "## Comparing images of different types\n",
        "\n",
        "Let's compare frontal, bedroom, bathroom, and kitchen image types. I have profiled the full dataset for all images in the dataset. Any drift we see between two profiles represent a difference between the two categories represented in the dataset, not just individual images.\n",
        "\n"
      ],
      "metadata": {
        "id": "x-j4l-HOMYrq"
      }
    },
    {
      "cell_type": "code",
      "source": [
        "all_frontal_images_profile = why.read(\"images/all_frontal_images.bin\")\n",
        "all_bedroom_images_profile = why.read(\"images/all_bedroom_images.bin\")\n",
        "all_bathroom_images_profile = why.read(\"images/all_bathroom_images.bin\")\n",
        "all_kitchen_images_profile = why.read(\"images/all_kitchen_images.bin\")"
      ],
      "metadata": {
        "id": "L6vZJMYZF9KK"
      },
      "execution_count": null,
      "outputs": []
    },
    {
      "cell_type": "code",
      "source": [
        "viz = NotebookProfileVisualizer()\n",
        "viz.set_profiles(target_profile_view=all_frontal_images_profile.view(),\n",
        "                 reference_profile_view=all_kitchen_images_profile.view())\n",
        "viz.summary_drift_report()"
      ],
      "metadata": {
        "id": "Vkycuz5hSlCU"
      },
      "execution_count": null,
      "outputs": []
    },
    {
      "cell_type": "markdown",
      "source": [
        "## Deeper dive on image embeddings\n",
        "\n",
        "See the following Google Colab notebook for an exploration of image analysis on image embeddings for MNIST.\n",
        "\n",
        "https://colab.research.google.com/github/whylabs/whylogs/blob/mainline/python/examples/experimental/embeddings/Embeddings_Distance_Logging.ipynb"
      ],
      "metadata": {
        "id": "IJ0R2-voZ4A-"
      }
    }
  ]
}